{
 "cells": [
  {
   "cell_type": "code",
   "execution_count": null,
   "metadata": {},
   "outputs": [],
   "source": [
    "import numpy as np\n",
    "import os\n",
    "import numba\n",
    "import cupy as cp\n",
    "#l=np.load('arr.npy')\n",
    "#print(l)\n",
    "# l=np.load('gradient.npy')\n",
    "# print(len(l[0]))\n",
    "from scipy.sparse import csr_matrix, save_npz, load_npz"
   ]
  },
  {
   "cell_type": "code",
   "execution_count": null,
   "metadata": {},
   "outputs": [],
   "source": [
    "agg2=np.array(np.load(\"err2_in_topK.npy\")) #, allow_pickle=True))\n",
    "agg2=agg2.transpose()\n",
    "A_conc2=np.load(\"A_conc2_in_topK.npy\", allow_pickle=True)                  #np.load(\"A_conc1_in.npy\")\n",
    "A_con=[]\n",
    "iter_no=500\n",
    "for i in range(iter_no):\n",
    "    A_con.append(A_conc2[i].todense())\n",
    "A_conc2=np.array(A_con)\n",
    "A_conc2= np.concatenate(A_conc2, axis=1)\n",
    "#np.save(\"agg3.npy\",agg3)\n",
    "\n",
    "# del err1\n",
    "# del err24\n",
    "# del err3"
   ]
  },
  {
   "cell_type": "code",
   "execution_count": null,
   "metadata": {},
   "outputs": [],
   "source": [
    "A=A_conc2[:, :1000]\n",
    "# print(A.shape)\n",
    "# print(A)\n",
    "# print(A_conc1[1862324][0:1000])\n",
    "A_conc2=A"
   ]
  },
  {
   "cell_type": "code",
   "execution_count": null,
   "metadata": {},
   "outputs": [],
   "source": [
    "print(agg2)"
   ]
  },
  {
   "cell_type": "code",
   "execution_count": null,
   "metadata": {},
   "outputs": [],
   "source": [
    "print(list(A_conc2))\n",
    "A_conc2=list(A_conc2)"
   ]
  },
  {
   "cell_type": "code",
   "execution_count": null,
   "metadata": {},
   "outputs": [],
   "source": [
    "print(A_conc2.shape)"
   ]
  },
  {
   "cell_type": "code",
   "execution_count": null,
   "metadata": {},
   "outputs": [],
   "source": [
    "agg2_2=np.array(np.load(\"err2_in_2_topK.npy\")) #, allow_pickle=True))\n",
    "agg2_2=agg2_2.transpose()\n",
    "A_conc2_2=np.load(\"A_conc2_in_2_topK.npy\", allow_pickle=True)                  #np.load(\"A_conc1_in.npy\")\n",
    "A_con=[]\n",
    "iter_no=500\n",
    "for i in range(iter_no):\n",
    "    A_con.append(A_conc2_2[i].todense())\n",
    "A_conc2_2=np.array(A_con)\n",
    "A_conc2_2= np.concatenate(A_conc2_2, axis=1)"
   ]
  },
  {
   "cell_type": "code",
   "execution_count": null,
   "metadata": {},
   "outputs": [],
   "source": [
    "agg2_3=np.array(np.load(\"err2_in_3_topK.npy\")) #, allow_pickle=True))\n",
    "agg2_3=agg2_3.transpose()\n",
    "A_conc2_3=np.load(\"A_conc2_in_3_topK.npy\", allow_pickle=True)                  #np.load(\"A_conc1_in.npy\")\n",
    "A_con=[]\n",
    "iter_no=500\n",
    "for i in range(iter_no):\n",
    "    A_con.append(A_conc2_3[i].todense())\n",
    "A_conc2_3=np.array(A_con)\n",
    "A_conc2_3= np.concatenate(A_conc2_3, axis=1)"
   ]
  },
  {
   "cell_type": "code",
   "execution_count": null,
   "metadata": {},
   "outputs": [],
   "source": [
    "agg2_4=np.array(np.load(\"err2_in_4_topK.npy\")) #, allow_pickle=True))\n",
    "agg2_4=agg2_4.transpose()\n",
    "A_conc2_4=np.load(\"A_conc2_in_4_topK.npy\", allow_pickle=True)                  #np.load(\"A_conc1_in.npy\")\n",
    "A_con=[]\n",
    "iter_no=500\n",
    "for i in range(iter_no):\n",
    "    A_con.append(A_conc2_4[i].todense())\n",
    "A_conc2_4=np.array(A_con)\n",
    "A_conc2_4= np.concatenate(A_conc2_4, axis=1)"
   ]
  },
  {
   "cell_type": "code",
   "execution_count": null,
   "metadata": {},
   "outputs": [],
   "source": [
    "agg2_5=np.array(np.load(\"err2_in_5_topK.npy\")) #, allow_pickle=True))\n",
    "agg2_5=agg2_4.transpose()\n",
    "A_conc2_5=np.load(\"A_conc2_in_5_topK.npy\", allow_pickle=True)                  #np.load(\"A_conc1_in.npy\")\n",
    "A_con=[]\n",
    "iter_no=500\n",
    "for i in range(iter_no):\n",
    "    A_con.append(A_conc2_5[i].todense())\n",
    "A_conc2_5=np.array(A_con)\n",
    "A_conc2_5= np.concatenate(A_conc2_5, axis=1)"
   ]
  },
  {
   "cell_type": "code",
   "execution_count": null,
   "metadata": {},
   "outputs": [],
   "source": [
    "print(agg2_3.shape)"
   ]
  },
  {
   "cell_type": "code",
   "execution_count": null,
   "metadata": {},
   "outputs": [],
   "source": [
    "#print(A_conc2)"
   ]
  },
  {
   "cell_type": "code",
   "execution_count": null,
   "metadata": {},
   "outputs": [],
   "source": [
    "agg2 = np.concatenate((agg2, agg2_2), axis=1) #,, agg2_3, agg2_4 agg2_4, , agg2_3, agg2_4\n",
    "print(agg2.shape)\n",
    "A_conc2 = np.concatenate((A_conc2, A_conc2_2), axis=1) #, , A_conc2_3, A_conc2_4 A_conc2_4 , A_conc2_3,A_conc2_4\n",
    "print(A_conc2.shape)"
   ]
  },
  {
   "cell_type": "code",
   "execution_count": null,
   "metadata": {},
   "outputs": [],
   "source": [
    "del agg2_2\n",
    "# del agg2_3\n",
    "# del agg2_4\n",
    "# del agg2_5\n",
    "del A_conc2_2\n",
    "# del A_conc2_3\n",
    "# del A_conc2_4\n",
    "# del A_conc2_5\n",
    "import torch\n",
    "torch.cuda.empty_cache()  "
   ]
  },
  {
   "cell_type": "code",
   "execution_count": null,
   "metadata": {},
   "outputs": [],
   "source": [
    "import torch\n",
    "print( np. __version__)\n",
    "torch.cuda.empty_cache()  "
   ]
  },
  {
   "cell_type": "code",
   "execution_count": null,
   "metadata": {},
   "outputs": [],
   "source": [
    "\n",
    "if torch.cuda.is_available():\n",
    "  dev = \"cuda:2\"\n",
    "else:\n",
    "  dev = \"cpu\"\n",
    "device = torch.device(dev)"
   ]
  },
  {
   "cell_type": "code",
   "execution_count": null,
   "metadata": {},
   "outputs": [],
   "source": [
    "from numba import cuda\n",
    "from numba import jit\n",
    "print(cuda.gpus)\n",
    "numba.cuda.select_device( 2 )"
   ]
  },
  {
   "cell_type": "code",
   "execution_count": null,
   "metadata": {},
   "outputs": [],
   "source": [
    "from numba import cuda\n",
    "cuda.detect()\n",
    "from numba import jit\n",
    "#@cuda.jit\n",
    "@jit #(target='cuda:1')\n",
    "def matrix_comp(A,A_conc,d,iter_no):\n",
    "    #for t in range(int(d/6)):\n",
    "    for t in range(A_conc.shape[0]):\n",
    "#     if (t%500000)==0:\n",
    "#         print(t)\n",
    "    #for j in range(user_no):\n",
    "        A[t]=np.split(A_conc[t],iter_no)\n",
    "        #A[t]=np.ma.row_stack (A[t])\n",
    "    return A"
   ]
  },
  {
   "cell_type": "code",
   "execution_count": null,
   "metadata": {
    "scrolled": true
   },
   "outputs": [],
   "source": [
    "import time\n",
    "d=11173962\n",
    "iter_no=1000\n",
    "user_no=5\n",
    "A2=np.empty((int(d/6),iter_no,user_no))\n",
    "start=time.time()\n",
    "A2=matrix_comp(A2,A_conc2,d,iter_no)\n",
    "end=time.time()\n",
    "print(end-start)"
   ]
  },
  {
   "cell_type": "code",
   "execution_count": null,
   "metadata": {},
   "outputs": [],
   "source": [
    "del A_conc2\n",
    "torch.cuda.empty_cache()  "
   ]
  },
  {
   "cell_type": "code",
   "execution_count": null,
   "metadata": {},
   "outputs": [],
   "source": [
    "from scipy import linalg\n",
    "import time\n",
    "\n",
    "#print(A)\n",
    "#A=np.array(A)\n",
    "#p,*_ = linalg.lstsq(A[:,:,0], e)\n",
    "d=11173962\n",
    "\n",
    "user_gradient=[]\n",
    "check_gradient=[]\n",
    "ind1=int(d/6)\n",
    "num_users=user_no\n",
    "start=time.time()   \n",
    "for user in range(num_users):\n",
    "#for user in user_no:\n",
    "    user_gradient.append([])\n",
    "    #check_gradient.append(original_gradient[user])\n",
    "for t in range(ind1):\n",
    "    #A_big[t]=np.array(A_big[t])\n",
    "    #e[t]=np.array(e[t])\n",
    "        #p,*_ = linalg.lstsq(A1[t], agg1[t])\n",
    "    p, *_  = linalg.lstsq(A2[t], agg2[t][0:iter_no])\n",
    "    #print(p)\n",
    "    for user in range(num_users):\n",
    "        user_gradient[user].append(p[user])\n",
    "    \n",
    "#check_gradient[user]=original_gradient[user]\n",
    "end=time.time()\n",
    "# ind1=int(d/3)\n",
    "# estimated_grad=least_square(A1,agg1,ind1)\n",
    "# end=time.time()\n",
    "\n",
    "print(end-start)"
   ]
  },
  {
   "cell_type": "code",
   "execution_count": null,
   "metadata": {},
   "outputs": [],
   "source": [
    "o=np.load(\"original_grad.npy\")"
   ]
  },
  {
   "cell_type": "code",
   "execution_count": null,
   "metadata": {},
   "outputs": [],
   "source": [
    "d=11173962\n",
    "print(o[2][int(d/6):int(d/6)+30])\n",
    "#user_gradient=np.load(\"gradient22_0.1_randK.npy\")\n",
    "print(user_gradient[2][0:30])\n",
    "print(np.linalg.norm(o[2][int(d/6):int(2*d/6)][:,0]-user_gradient[2]))"
   ]
  },
  {
   "cell_type": "code",
   "execution_count": null,
   "metadata": {},
   "outputs": [],
   "source": [
    "np.save(\"gradient22.npy\",user_gradient)\n",
    "print(\"finish\")"
   ]
  },
  {
   "cell_type": "code",
   "execution_count": null,
   "metadata": {},
   "outputs": [],
   "source": [
    "# s=np.load(\"gradient22_0.01_topK.npy\")\n",
    "# print(s)\n",
    "# np.save(\"gradient22_0.01.npy\",s)"
   ]
  },
  {
   "cell_type": "code",
   "execution_count": null,
   "metadata": {},
   "outputs": [],
   "source": []
  }
 ],
 "metadata": {
  "kernelspec": {
   "display_name": "Python 3",
   "language": "python",
   "name": "python3"
  },
  "language_info": {
   "codemirror_mode": {
    "name": "ipython",
    "version": 3
   },
   "file_extension": ".py",
   "mimetype": "text/x-python",
   "name": "python",
   "nbconvert_exporter": "python",
   "pygments_lexer": "ipython3",
   "version": "3.8.10"
  }
 },
 "nbformat": 4,
 "nbformat_minor": 4
}
