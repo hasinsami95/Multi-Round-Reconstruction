{
 "cells": [
  {
   "cell_type": "code",
   "execution_count": null,
   "metadata": {
    "id": "PHHfyHUi-RgE"
   },
   "outputs": [],
   "source": []
  },
  {
   "cell_type": "code",
   "execution_count": null,
   "metadata": {
    "id": "V_j53xnb-RgF",
    "outputId": "7fae234b-6907-4211-a84e-6e1df54e054b"
   },
   "outputs": [],
   "source": [
    "import matplotlib\n",
    "import argparse\n",
    "# matplotlib.use('Agg')\n",
    "import matplotlib.pyplot as plt\n",
    "import copy\n",
    "import numpy as np\n",
    "from torchvision import datasets, transforms\n",
    "import torch\n",
    "import torch.nn as nn # import modules\n",
    "\n",
    "from utils.sampling import mnist_iid, mnist_noniid, cifar_iid\n",
    "from utils.options import args_parser\n",
    "from models_v1.Update import LocalUpdate\n",
    "from models_v1.Nets import MLP, CNNMnist, CNNCifar, LeNet, CNNMnist2, MobileNetV2, LeNet5, LeNet10, cnn_cifar10\n",
    "from models_v1.Fed import FedAvg\n",
    "from models_v1.Fed import FedQAvg, Quantization, Quantization_Finite, my_score, my_score_Finite\n",
    "from models_v1.test import test_img\n",
    "\n",
    "%load_ext autoreload\n",
    "%autoreload 2\n",
    "from torch.autograd import grad\n",
    "parser = argparse.ArgumentParser(description='Deep Leakage from Gradients.')\n",
    "parser.add_argument('--index', type=int, default=\"25\",\n",
    "                    help='the index for leaking images on CIFAR.')\n",
    "parser.add_argument('--image', type=str,default=\"\",\n",
    "                    help='the path to customized image.')\n",
    "args = parser.parse_args([])\n",
    "from torch.autograd import grad"
   ]
  },
  {
   "cell_type": "code",
   "execution_count": null,
   "metadata": {
    "id": "kw-w6flg-RgH",
    "outputId": "5490db5d-e68e-469e-eecd-a0e5b3b5ce11"
   },
   "outputs": [],
   "source": [
    "class my_argument:\n",
    "    epochs = 400    #\"rounds of training\"\n",
    "    num_users = 100  # \"number of users: K\"\n",
    "    frac = 0.5 #\"the fraction of clients: C\"\n",
    "    local_ep=5 #\"the number of local epochs: E\"\n",
    "    local_bs=25 #\"local batch size: B\"\n",
    "    bs=128 #\"test batch size\"\n",
    "    lr=0.001 #\"learning rate\"\n",
    "    momentum=0.5 # \"SGD momentum (default: 0.5)\"\n",
    "    split='user' # \"train-test split type, user or sample\"\n",
    "    weight_decay = 5e-4\n",
    "    opt = 'ADAM'\n",
    "\n",
    "    # model arguments\n",
    "    model = 'cnn'\n",
    "    kernel_num=9 #, help='number of each kind of kernel')\n",
    "    kernel_sizes='3,4,5' #  help='comma-separated kernel size to use for convolution')\n",
    "    norm='batch_norm' #, help=\"batch_norm, layer_norm, or None\")\n",
    "    num_filters=32 #, help=\"number of filters for conv nets\")\n",
    "    max_pool='True' #help=\"Whether use max pooling rather than strided convolutions\")\n",
    "\n",
    "    # other arguments\n",
    "    dataset='cifar' #, help=\"name of dataset\")\n",
    "    iid=1\n",
    "    num_classes=10#, help=\"number of classes\")\n",
    "    num_channels=3#, help=\"number of channels of imges\")\n",
    "    gpu=1#, help=\"GPU ID, -1 for CPU\")\n",
    "    stopping_rounds=10#, help='rounds of early stopping')\n",
    "    verbose='False'#, help='verbose print')\n",
    "    seed=1#, help='random seed (default: 1)')\n",
    "    model='cnn'\n",
    "    q=20\n",
    "    f_size=32\n",
    "args = my_argument()\n",
    "\n",
    "args.device = torch.device('cuda:{}'.format(args.gpu) if torch.cuda.is_available() and args.gpu != -1 else 'cpu')\n",
    "\n",
    "use_cuda = torch.cuda.is_available()\n",
    "print(use_cuda)\n",
    "args.device = torch.device(\"cpu\")\n",
    "args.device = torch.device(\"cuda\" if use_cuda else \"cpu\")\n",
    "print(args.device)"
   ]
  },
  {
   "cell_type": "code",
   "execution_count": null,
   "metadata": {
    "id": "N79AEQME-RgI",
    "outputId": "e1953584-10f0-4d38-d28d-aba1bb51fe70"
   },
   "outputs": [],
   "source": [
    "from models_v1.Fed import FedAdd,FedSubstract,weight_vectorization_gen,FedAvg_gradient, weight_vectorization_gen2\n",
    "net_glob = LeNet10().to(args.device)  #(args=args).to(args.device)\n",
    "w_glob=net_glob.state_dict()\n",
    "g, dim = weight_vectorization_gen(w_glob)\n",
    "print(len(g))\n",
    "print(net_glob)"
   ]
  },
  {
   "cell_type": "code",
   "execution_count": null,
   "metadata": {
    "id": "D20LN7Cb-RgI",
    "outputId": "c4cd8471-1a99-4525-c65d-a0099d162022"
   },
   "outputs": [],
   "source": [
    "net_glob=torch.hub.load('pytorch/vision:v0.10.0','resnet18',pretrained=False)\n",
    "net_glob.eval()\n",
    "w_glob = net_glob.state_dict()\n",
    "g, dim = weight_vectorization_gen(w_glob)\n",
    "print(len(g))\n",
    "#print(net_glob)"
   ]
  },
  {
   "cell_type": "code",
   "execution_count": null,
   "metadata": {
    "id": "_cFVXevs-RgI"
   },
   "outputs": [],
   "source": [
    "from collections import defaultdict\n",
    "\n",
    "arch = 'ConvNet64'\n",
    "arch='cnn'\n",
    "arch='ResNet18'\n",
    "num_images = 5\n",
    "trained_model = False"
   ]
  },
  {
   "cell_type": "code",
   "execution_count": null,
   "metadata": {
    "id": "Cw4Surpj-RgI",
    "outputId": "6ab7a12b-7801-49f3-a087-1f0d5f4e1b6b"
   },
   "outputs": [],
   "source": [
    "def phiQ(p,sc, q, w):\n",
    "    w_cap = w #[:,0]\n",
    "    #w_cap=[item[0] if isinstance(item,list) and len(item)>0 else item for item in w_cap]\n",
    "    #w_cap=np.array(w_cap)\n",
    "    #print(\"w_cap_first\")\n",
    "    #print(w_cap)\n",
    "    w_cap= sc*w_cap\n",
    "    v=np.floor(q*w_cap)\n",
    "    one=np.ones(len(w))\n",
    "    r=np.random.uniform(0,1,len(w_cap))\n",
    "    temp=(one.T+np.sign(q*w_cap-v-r))*np.sign(q*w_cap-v-r)\n",
    "    #j=np.sign(w_cap-v-r)\n",
    "    #print(\"jjj\")\n",
    "    #print(j)\n",
    "    #temp= (1/q)*(1/2)*temp\n",
    "    temp=(1/2)*temp\n",
    "    #print(\"temp\")\n",
    "    #print(temp)\n",
    "    #w_cap= (1/q)*v + temp\n",
    "    w_cap=(1/q)*(v+temp)\n",
    "    w_cap=q*w_cap\n",
    "    #w_cap=w_cap+ (1/2)*p*(-np.sign(w_cap)+one.T)*(-np.sign(w_cap))\n",
    "    w_cap=w_cap+ (1/2)*(p-5)*(-np.sign(w_cap)+one.T)*(-np.sign(w_cap))\n",
    "    #print(\"w_cap_last\")\n",
    "    #print(w_cap)\n",
    "    del temp\n",
    "    del one\n",
    "    del v\n",
    "    del r\n",
    "    return w_cap\n",
    "args.device = torch.device('cuda:{}'.format(args.gpu) if torch.cuda.is_available() and args.gpu != -1 else 'cpu')\n",
    "\n",
    "# load dataset and split users\n",
    "if args.dataset == 'mnist':\n",
    "    trans_mnist = transforms.Compose([transforms.ToTensor(), transforms.Normalize((0.1307,), (0.3081,))])\n",
    "    dataset_train = datasets.MNIST('/data/mnist/', train=True, download=True, transform=trans_mnist)\n",
    "    dataset_test = datasets.MNIST('/data/mnist/', train=False, download=True, transform=trans_mnist)\n",
    "    # sample users\n",
    "    if args.iid:\n",
    "        dict_users = mnist_iid(dataset_train, args.num_users)\n",
    "        print('iid dataset')\n",
    "    else:\n",
    "        dict_users = mnist_noniid(dataset_train, args.num_users)\n",
    "        print(\"non iid dataset\")\n",
    "elif args.dataset == 'cifar':\n",
    "    trans_cifar = transforms.Compose([transforms.ToTensor(), transforms.Normalize((0.5, 0.5, 0.5), (0.5, 0.5, 0.5))])\n",
    "    dataset_train = datasets.CIFAR10('./data/cifar', train=True, download=True, transform=trans_cifar)\n",
    "    dataset_test = datasets.CIFAR10('./data/cifar', train=False, download=True, transform=trans_cifar)\n",
    "    if args.iid:\n",
    "        dict_users = cifar_iid(dataset_train, args.num_users)\n",
    "    else:\n",
    "        exit('Error: only consider IID setting in CIFAR10')\n",
    "else:\n",
    "    exit('Error: unrecognized dataset')\n",
    "img_size = dataset_train[0][0].shape\n"
   ]
  },
  {
   "cell_type": "code",
   "execution_count": null,
   "metadata": {
    "id": "H5KyGPI3-RgJ"
   },
   "outputs": [],
   "source": [
    "def toNumpyFlatArray(self):\n",
    "        return self.flat\n",
    "\n",
    "\n",
    "def updateFromNumpyFlatArray(self, arr):\n",
    "    self.flat = arr\n",
    "    start = 0\n",
    "    new_glob = OrderedDict()\n",
    "    for k in self.w_glob.keys():\n",
    "        size = 1\n",
    "        for dim in self.w_glob[k].shape:\n",
    "            size *= dim\n",
    "        shaped = np.reshape(arr[start : start + size].copy(), self.w_glob[k].shape)\n",
    "        new_glob[k] = torch.from_numpy(shaped)\n",
    "        start = start + size\n",
    "    self.w_glob = new_glob\n",
    "    self.net_glob.load_state_dict(self.w_glob)"
   ]
  },
  {
   "cell_type": "code",
   "execution_count": null,
   "metadata": {
    "id": "nUnBDtiU-RgJ",
    "outputId": "f8ebd202-397d-4624-8140-96896313ef35"
   },
   "outputs": [],
   "source": [
    "import inversefed\n",
    "setup = inversefed.utils.system_startup()\n",
    "defs = inversefed.training_strategy('conservative')\n",
    "\n",
    "loss_fn, trainloader, validloader =  inversefed.construct_dataloaders('CIFAR10', defs)\n",
    "\n",
    "net_glob, _ = inversefed.construct_model(arch, num_classes=10, num_channels=3)\n",
    "net_glob.to(**setup)\n",
    "# net_glob=torch.hub.load('pytorch/vision:v0.10.0','resnet18',pretrained=False)\n",
    "# net_glob.eval()\n",
    "if trained_model:\n",
    "    epochs = 10\n",
    "    file = f'{arch}_{epochs}.pth'\n",
    "    try:\n",
    "        net_glob.load_state_dict(torch.load(f'models_v2/{file}'))\n",
    "    except FileNotFoundError:\n",
    "        inversefed.train(net_glob, loss_fn, trainloader, validloader, defs, setup=setup)\n",
    "        torch.save(net_glob.state_dict(), f'models_v2/{file}')\n",
    "net_glob.eval();"
   ]
  },
  {
   "cell_type": "code",
   "execution_count": null,
   "metadata": {
    "id": "bx1DGgZL-RgJ",
    "outputId": "8f70a4cb-50ca-45d2-807d-831f7d7824b9"
   },
   "outputs": [],
   "source": [
    "# load dataset and split users\n",
    "if args.dataset == 'mnist':\n",
    "    trans_mnist = transforms.Compose([transforms.ToTensor(), transforms.Normalize((0.1307,), (0.3081,))])\n",
    "    dataset_train = datasets.MNIST('./data/mnist/', train=True, download=True, transform=trans_mnist)\n",
    "    dataset_test = datasets.MNIST('./data/mnist/', train=False, download=True, transform=trans_mnist)\n",
    "    # sample users\n",
    "    if args.iid:\n",
    "        dict_users = mnist_iid(dataset_train, args.num_users)\n",
    "    else:\n",
    "        dict_users = mnist_noniid(dataset_train, args.num_users)\n",
    "elif args.dataset == 'cifar':\n",
    "    trans_cifar = transforms.Compose([transforms.ToTensor(), transforms.Normalize((0.4914, 0.4822, 0.4465), (0.2023, 0.1994, 0.2010))])\n",
    "    dataset_train = datasets.CIFAR10('./data/cifar', train=True, download=True, transform=trans_cifar)\n",
    "    dataset_test = datasets.CIFAR10('./data/cifar', train=False, download=True, transform=trans_cifar)\n",
    "    if args.iid:\n",
    "        print(\"iid dataset\")\n",
    "        dict_users = cifar_iid(dataset_train, args.num_users)\n",
    "    else:\n",
    "        exit('Error: only consider IID setting in CIFAR10')\n",
    "else:\n",
    "    exit('Error: unrecognized dataset')\n",
    "img_size = dataset_train[0][0].shape"
   ]
  },
  {
   "cell_type": "code",
   "execution_count": null,
   "metadata": {
    "id": "1JPxcJgr-RgK",
    "outputId": "1f1d7889-c562-462b-84e4-8efda776814d"
   },
   "outputs": [],
   "source": [
    "print(len(dict_users[2]))"
   ]
  },
  {
   "cell_type": "markdown",
   "metadata": {
    "id": "P94mc1dh-RgK"
   },
   "source": [
    "# 1. FedAvg with A=0"
   ]
  },
  {
   "cell_type": "code",
   "execution_count": null,
   "metadata": {
    "id": "fXszuwgX-RgL"
   },
   "outputs": [],
   "source": [
    "def weights_init(m):\n",
    "    if isinstance(m, nn.Conv2d):\n",
    "        seed=123\n",
    "        torch.cuda.manual_seed(seed)\n",
    "        torch.manual_seed(seed)\n",
    "        torch.cuda.manual_seed(seed)\n",
    "        torch.cuda.manual_seed_all(seed)\n",
    "        np.random.seed(seed)\n",
    "        random.seed(seed)\n",
    "        torch.backends.cudnn.benchmark = False\n",
    "        torch.backends.cudnn.deterministic = True\n",
    "        nn.init.xavier_uniform(m.weight.data, nn.init.calculate_gain('relu'))\n",
    "        #nn.init.xavier_uniform(m.bias.data)\n",
    "        torch.nn.init.zeros_(m.bias.data)\n",
    "    if isinstance(m, torch.nn.Linear):\n",
    "        seed=123\n",
    "        torch.cuda.manual_seed(seed)\n",
    "        torch.manual_seed(seed)\n",
    "        torch.cuda.manual_seed(seed)\n",
    "        torch.cuda.manual_seed_all(seed)\n",
    "        np.random.seed(seed)\n",
    "        random.seed(seed)\n",
    "        torch.backends.cudnn.benchmark = False\n",
    "        torch.backends.cudnn.deterministic = True\n",
    "        torch.nn.init.xavier_uniform_(m.weight.data)\n",
    "        #torch.nn.init.xavier_uniform_(m.bias.data)\n",
    "        torch.nn.init.zeros_(m.bias.data)\n",
    "    if isinstance(m, nn.BatchNorm2d):\n",
    "        seed=123\n",
    "        torch.cuda.manual_seed(seed)\n",
    "        torch.manual_seed(seed)\n",
    "        torch.cuda.manual_seed(seed)\n",
    "        torch.cuda.manual_seed_all(seed)\n",
    "        np.random.seed(seed)\n",
    "        random.seed(seed)\n",
    "        torch.backends.cudnn.benchmark = False\n",
    "        torch.backends.cudnn.deterministic = True\n",
    "        torch.nn.init.xavier_uniform_(m.weight.data)\n",
    "        #torch.nn.init.xavier_uniform_(m.bias.data)\n",
    "        torch.nn.init.zeros_(m.bias.data)\n",
    "        #conv1.bias.data.fill_(0.01)"
   ]
  },
  {
   "cell_type": "code",
   "execution_count": null,
   "metadata": {
    "id": "lTvSliWY-RgL"
   },
   "outputs": [],
   "source": [
    "\n",
    "local_lr = 1e-4\n",
    "local_steps = 5\n",
    "use_updates = True"
   ]
  },
  {
   "cell_type": "code",
   "execution_count": null,
   "metadata": {
    "id": "x7bCMRax-RgL",
    "outputId": "9c20f17c-d2e7-4dae-8d3b-11c1a0d7736f"
   },
   "outputs": [],
   "source": [
    "from models_v1.Fed import FedAdd,FedSubstract,weight_vectorization_gen,FedAvg_gradient\n",
    "import numpy as np\n",
    "import copy\n",
    "import random\n",
    "# build model\n",
    "if args.model == 'cnn' and args.dataset == 'cifar':\n",
    "    net_glob = cnn_cifar10(args=args).to(args.device)\n",
    "elif args.model == 'cnn' and args.dataset == 'mnist':\n",
    "    net_glob = CNNMnist(args=args).to(args.device)\n",
    "elif args.model == \"mobilenetv2\":\n",
    "    net_glob = MobileNetV2(args=args).to(args.device)\n",
    "elif args.model == 'mlp':\n",
    "    len_in = 1\n",
    "    for x in img_size:\n",
    "        len_in *= x\n",
    "    net_glob = MLP(dim_in=len_in, dim_hidden=200, dim_out=args.num_classes).to(args.device)\n",
    "else:\n",
    "    exit('Error: unrecognized model')\n",
    "print(net_glob)\n",
    "net_glob.apply(weights_init)\n",
    "net_glob.train()\n",
    "#torch.save(net_glob.state_dict(),\"model_acc.pt\")"
   ]
  },
  {
   "cell_type": "code",
   "execution_count": null,
   "metadata": {},
   "outputs": [],
   "source": [
    "w_glob = net_glob.state_dict()\n",
    "g, dim = weight_vectorization_gen(w_glob)\n",
    "print(len(g))"
   ]
  },
  {
   "cell_type": "code",
   "execution_count": null,
   "metadata": {
    "id": "gieZG7Zj-RgL"
   },
   "outputs": [],
   "source": [
    "#net_glob=ResNet18()\n",
    "#torch.save(net_glob.state_dict(),  \"Model_acc_res.pt\")"
   ]
  },
  {
   "cell_type": "code",
   "execution_count": null,
   "metadata": {
    "id": "-4rT5clG-RgL",
    "outputId": "17f9480e-da0c-4342-829b-8939c0f0a6a9",
    "scrolled": true
   },
   "outputs": [],
   "source": [
    "from models_v1.Fed import FedAdd,FedSubstract,weight_vectorization_cifar,FedAvg_gradient, weight_vectorization_gen, weight_vectorization_gen2\n",
    "#net_glob = LeNet10().to(args.device)\n",
    "#net_glob.train()\n",
    "args.lr=0.001\n",
    "import torchvision.models as models\n",
    "dev=torch.device(\"cuda:1\" if torch.cuda.is_available() else \"cpu\")\n",
    "#net_glob =models.resnet18(pretrained=False, progress=True)\n",
    "net_glob=net_glob.to(dev)\n",
    "net_glob.train()\n",
    "# copy weights\n",
    "#net_glob=torch.hub.load('pytorch/vision:v0.10.0','resnet18',pretrained=False)\n",
    "#net_glob.eval()\n",
    "w_glob = net_glob.state_dict()\n",
    "w_glob=torch.load(\"model_acc_FedAvg.pt\")\n",
    "net_glob.load_state_dict(w_glob)\n",
    "net_glob=net_glob.to(dev)\n",
    "net_glob.train()\n",
    "w_glob = net_glob.state_dict()\n",
    "# training\n",
    "loss_train = []\n",
    "loss_test_arr = []\n",
    "acc_test_arr = []\n",
    "cv_loss, cv_acc = [], []\n",
    "val_loss_pre, counter = 0, 0\n",
    "net_best = None\n",
    "best_loss = None\n",
    "val_acc_list, net_list = [], []\n",
    "\n",
    "m_local=[]\n",
    "d=11699132 #resnet18\n",
    "d= 11173962\n",
    "d= 11699132\n",
    "d=11183582\n",
    "d=62006\n",
    "d=1068298\n",
    "iter_no=500\n",
    "avg=[]\n",
    "error=[]\n",
    "idxs_users=range(0,args.num_users)\n",
    "    #print(len(idxs_users))\n",
    "user_no=args.num_users\n",
    "updated=[]\n",
    "for user in idxs_users:\n",
    "        #print(user)\n",
    "    updated.append([])\n",
    "model_diff=[]\n",
    "\n",
    "\n",
    "\n",
    "\n",
    "#net_glob.zero_grad()\n",
    "input_gradient=[]\n",
    "\n",
    "user_no=args.num_users\n",
    "select=round(0.9*user_no)\n",
    "\n",
    "sparsity=0.005\n",
    "K_local=round(sparsity*d)\n",
    "\n",
    "#net_glob.zero_grad()\n",
    "for iter in range(iter_no): #args.epochs\n",
    "    print(\"iteration no.\",iter)\n",
    "    m_local=[]\n",
    "    f=[]\n",
    "        #T=[]\n",
    "    w_locals, loss_locals,diff_locals,grad_locals = [], [],[],[]\n",
    "    m = 10\n",
    "    updated=[]\n",
    "    model_diff=[]\n",
    "    grad_vect=[]\n",
    "    prev=[]\n",
    "    error=[]\n",
    "    grad_vect_quant=[]\n",
    "    grad_vect_quant2=[]\n",
    "    grad_vect_send=[]\n",
    "    grad_vect_send2=[]\n",
    "    grad_vect_quant=[]\n",
    "    store_grad=[]\n",
    "    location_local=[]\n",
    "    np.random.seed(iter)\n",
    "    rand=np.random.choice(idxs_users,select,replace=False)\n",
    "    rand=np.sort(rand)\n",
    "    #rand=idxs_users\n",
    "    loss_train_user=[]\n",
    "    for i in range(args.num_users):\n",
    "        updated.append([])\n",
    "        model_diff.append([])\n",
    "        grad_vect.append([])\n",
    "        prev.append([])\n",
    "        grad_vect_send.append([])\n",
    "        error.append(np.zeros(d))\n",
    "        grad_vect_quant.append([])\n",
    "    #idxs_users = np.random.choice(range(args.num_users), m, replace=False)\n",
    "\n",
    "        #T=np.zeros(user_no)\n",
    "    \n",
    "    for user in rand: #idxs_users:\n",
    "        #print(user)\n",
    "\n",
    "\n",
    "        prev=copy.deepcopy(w_glob)\n",
    "        local = LocalUpdate(args=args, dataset=dataset_train, idxs=dict_users[user])\n",
    "        w, loss = local.train(net=copy.deepcopy(net_glob).to(args.device))\n",
    "        #target_loss, _, _ = loss_fn(net_glob(ground_truth[user]), labels[user])\n",
    "        #print(\"success\")\n",
    "        #prev[user]=updated[user]\n",
    "        loss_train_user.append(loss)\n",
    "        model_diff=FedSubstract(w,prev)\n",
    "\n",
    "\n",
    "        g, dim = weight_vectorization_gen(model_diff)\n",
    "        g=g[:,0]+error[user]\n",
    "        location_local=np.random.choice(range(d),K_local,replace=False)\n",
    "        mask=np.zeros(d)\n",
    "        np.put(mask,location_local,1)\n",
    "        grad_vect= np.multiply(g,mask)\n",
    "        scale=1/(sparsity*0.9*args.num_users)\n",
    "        grad_vect_quant=phiQ(np.power(2,args.f_size),scale,2**args.q,grad_vect)\n",
    "        error[user]=g-grad_vect\n",
    "        grad_locals.append(grad_vect_quant)\n",
    "        #del g\n",
    "        print(user)\n",
    "    grad_avg=sum(grad_locals)  #/len(grad_locals)\n",
    "    grad_avg=np.nan_to_num(sum(grad_locals))\n",
    "    loss_train.append(sum(loss_train_user)/len(loss_train_user))\n",
    "    grad_avg_correct = np.zeros_like(grad_avg)\n",
    "    #print(\"before modulo\")\n",
    "    #print(grad_avg)\n",
    "    grad_avg= (grad_avg)%(np.power(2,args.f_size)-5)\n",
    "    #print(\"after modulo\")\n",
    "    #print(grad_avg)\n",
    "    p=np.power(2,args.f_size)-5\n",
    "    for i in range(len(grad_avg)):\n",
    "        if grad_avg[i]>=0 and grad_avg[i]<(p-1)/2:\n",
    "                        # print(\"Valid\")\n",
    "            grad_avg_correct[i]=grad_avg[i]\n",
    "            grad_avg_correct[i]=(1/(2**args.q))*grad_avg_correct[i]\n",
    "            #grad_avg_correct[i]=(1/(2**args.q))*grad_avg_correct[i]\n",
    "            continue\n",
    "        elif grad_avg[i]>=(p-1)/2 and grad_avg[i]<p:\n",
    "                        # print(\"Chenged\")\n",
    "            grad_avg_correct[i]=grad_avg[i]-p\n",
    "            grad_avg_correct[i]=(1/(2**args.q))*grad_avg_correct[i]\n",
    "    count=0\n",
    "    w_glob_prev=copy.deepcopy(w_glob)\n",
    "    flat=[]\n",
    "    #conver\n",
    "    for i in range(len(w_glob.keys())): # 4 layers in parameter\n",
    "        flat.append([])\n",
    "\n",
    "    for h in w_glob_prev.keys():\n",
    "        s=list(w_glob[h].shape)\n",
    "        if (len(s)==0):\n",
    "            new=np.array(0)\n",
    "            grad_avg_correct=np.delete(grad_avg_correct,np.s_[0])\n",
    "        else:\n",
    "            z=np.prod(list(w_glob[h].shape))\n",
    "            flat[count]=grad_avg_correct[0:z] # taking out the vector for the specified layer\n",
    "            grad_avg_correct=np.delete(grad_avg_correct,np.s_[0:z]) # deleting that vector from decoded after taking out\n",
    "\n",
    "            new=flat[count].reshape(list(w_glob[h].shape)) #reshaping back to the marix\n",
    "\n",
    "        w_glob[h]=torch.from_numpy(new) #converting the matrix to a tensor\n",
    "            #print(w_glob[cluster_no][h].shape)\n",
    "        count=count+1\n",
    "    global_diff = w_glob\n",
    "    #print(w_glob)\n",
    "    w_glob=FedAdd(w_glob_prev,global_diff)\n",
    "    # update global weights\n",
    "    #global_diff = w_glob\n",
    "    #print(w_glob)\n",
    "    #w_glob=FedAdd(w_glob_prev,global_diff)\n",
    "\n",
    "\n",
    "    # copy weight to net_glob\n",
    "    net_glob.load_state_dict(w_glob)\n",
    "\n",
    "    del w_glob_prev\n",
    "    del grad_locals\n",
    "    del grad_avg\n",
    "    del flat\n",
    "    torch.cuda.empty_cache()\n",
    "\n",
    "    # print loss\n",
    "    #loss_avg = np.nan_to_num(sum(loss_locals) / len(loss_locals))\n",
    "\n",
    "    #loss_train.append(float(loss_avg))\n",
    "\n",
    "    acc_test, loss_test = test_img(net_glob, dataset_test, args)\n",
    "    acc_test_arr.append(float(acc_test))\n",
    "    loss_test_arr.append(loss_test)\n",
    "    if iter % 1 ==0:\n",
    "        #print('Round {:3d}, Average loss {:.3f} Test accuracy {:.3f}'.format(iter, loss_avg,acc_test))\n",
    "\n",
    "        print(\"accuracy array\")\n",
    "        print(acc_test_arr[iter])\n",
    "        print(\"train loss\")\n",
    "        print(loss_train[iter])\n",
    "\n",
    "\n",
    "\n",
    "\n",
    "\n"
   ]
  },
  {
   "cell_type": "code",
   "execution_count": null,
   "metadata": {
    "id": "aT7xLlrN-RgM"
   },
   "outputs": [],
   "source": [
    "print(acc_test_arr)"
   ]
  },
  {
   "cell_type": "code",
   "execution_count": null,
   "metadata": {
    "id": "BFZaQOCs-RgM"
   },
   "outputs": [],
   "source": [
    "print(g)\n",
    "print(error[user])"
   ]
  },
  {
   "cell_type": "code",
   "execution_count": null,
   "metadata": {
    "id": "h6UlHZlC-RgM"
   },
   "outputs": [],
   "source": [
    "print(g[:,0])\n",
    "print(g)\n",
    "print(mask)\n",
    "mask=np.array(mask)\n",
    "f=np.multiply(mask,g[:,0])"
   ]
  },
  {
   "cell_type": "code",
   "execution_count": null,
   "metadata": {
    "id": "m3BZSUny-RgM"
   },
   "outputs": [],
   "source": [
    "print(mask[100:200])"
   ]
  },
  {
   "cell_type": "code",
   "execution_count": null,
   "metadata": {
    "id": "DjJR9HpG-RgM",
    "outputId": "3ea70bfd-866f-4c8c-f1e9-c0bc7a9e4ed5"
   },
   "outputs": [],
   "source": [
    "print(acc_test_arr)"
   ]
  },
  {
   "cell_type": "code",
   "execution_count": null,
   "metadata": {
    "id": "cEXqEmlD-RgM",
    "outputId": "86f6e4af-0f4e-467d-8379-78047dca0463"
   },
   "outputs": [],
   "source": [
    "plt.plot(range(len(acc_test_arr)), acc_test_arr)\n",
    "plt.show()"
   ]
  }
 ],
 "metadata": {
  "colab": {
   "provenance": []
  },
  "kernelspec": {
   "display_name": "Python 3",
   "language": "python",
   "name": "python3"
  },
  "language_info": {
   "codemirror_mode": {
    "name": "ipython",
    "version": 3
   },
   "file_extension": ".py",
   "mimetype": "text/x-python",
   "name": "python",
   "nbconvert_exporter": "python",
   "pygments_lexer": "ipython3",
   "version": "3.8.10"
  }
 },
 "nbformat": 4,
 "nbformat_minor": 1
}
