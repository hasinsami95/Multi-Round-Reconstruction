{
 "cells": [
  {
   "cell_type": "code",
   "execution_count": null,
   "metadata": {},
   "outputs": [],
   "source": [
    "import numpy as np\n",
    "import os\n",
    "import numba\n",
    "import cupy as cp\n",
    "#l=np.load('arr.npy')\n",
    "#print(l)\n",
    "# l=np.load('gradient.npy')\n",
    "# print(len(l[0]))\n",
    "from scipy.sparse import csr_matrix, save_npz, load_npz"
   ]
  },
  {
   "cell_type": "code",
   "execution_count": null,
   "metadata": {},
   "outputs": [],
   "source": [
    "agg3=np.array(np.load(\"err3_in_topK.npy\")) #, allow_pickle=True))\n",
    "agg3=agg3.transpose()\n",
    "A_conc3=np.load(\"A_conc3_in_topK.npy\", allow_pickle=True)                  #np.load(\"A_conc1_in.npy\")\n",
    "A_con=[]\n",
    "iter_no=500\n",
    "for i in range(iter_no):\n",
    "    A_con.append(A_conc3[i].todense())\n",
    "A_conc3=np.array(A_con)\n",
    "A_conc3= np.concatenate(A_conc3, axis=1)\n",
    "#np.save(\"agg3.npy\",agg3)\n",
    "\n",
    "# del err1\n",
    "# del err2\n",
    "# del err3"
   ]
  },
  {
   "cell_type": "code",
   "execution_count": null,
   "metadata": {},
   "outputs": [],
   "source": [
    "A=A_conc3[:, :1000]\n",
    "# print(A.shape)\n",
    "# print(A)\n",
    "# print(A_conc1[1862324][0:1000])\n",
    "A_conc3=A"
   ]
  },
  {
   "cell_type": "code",
   "execution_count": null,
   "metadata": {},
   "outputs": [],
   "source": [
    "agg3_2=np.array(np.load(\"err3_in_2_topK.npy\")) #, allow_pickle=True))\n",
    "agg3_2=agg3_2.transpose()\n",
    "A_conc3_2=np.load(\"A_conc3_in_2_topK.npy\", allow_pickle=True)                  #np.load(\"A_conc1_in.npy\")\n",
    "A_con=[]\n",
    "iter_no=500\n",
    "for i in range(iter_no):\n",
    "    A_con.append(A_conc3_2[i].todense())\n",
    "A_conc3_2=np.array(A_con)\n",
    "A_conc3_2= np.concatenate(A_conc3_2, axis=1)"
   ]
  },
  {
   "cell_type": "code",
   "execution_count": null,
   "metadata": {},
   "outputs": [],
   "source": [
    "agg3_3=np.array(np.load(\"err3_in_3_topK.npy\")) #, allow_pickle=True))\n",
    "agg3_3=agg3_3.transpose()\n",
    "A_conc3_3=np.load(\"A_conc3_in_3_topK.npy\", allow_pickle=True)                  #np.load(\"A_conc1_in.npy\")\n",
    "A_con=[]\n",
    "iter_no=500\n",
    "for i in range(iter_no):\n",
    "    A_con.append(A_conc3_3[i].todense())\n",
    "A_conc3_3=np.array(A_con)\n",
    "A_conc3_3= np.concatenate(A_conc3_3, axis=1)"
   ]
  },
  {
   "cell_type": "code",
   "execution_count": null,
   "metadata": {},
   "outputs": [],
   "source": [
    "agg3_4=np.array(np.load(\"err3_in_4_topK.npy\")) #, allow_pickle=True))\n",
    "agg3_4=agg3_4.transpose()\n",
    "A_conc3_4=np.load(\"A_conc3_in_4_topK.npy\", allow_pickle=True)                  #np.load(\"A_conc1_in.npy\")\n",
    "A_con=[]\n",
    "iter_no=500\n",
    "for i in range(iter_no):\n",
    "    A_con.append(A_conc3_4[i].todense())\n",
    "A_conc3_4=np.array(A_con)\n",
    "A_conc3_4= np.concatenate(A_conc3_4, axis=1)"
   ]
  },
  {
   "cell_type": "code",
   "execution_count": null,
   "metadata": {},
   "outputs": [],
   "source": [
    "agg3 = np.concatenate((agg3, agg3_2), axis=1) #, agg3_3, agg3_4, agg3_3, agg3_4 # agg3_3, agg3_4\n",
    "print(agg3.shape)\n",
    "A_conc3 = np.concatenate((A_conc3, A_conc3_2), axis=1) # #, A_conc3_3, A_conc3_4, A_conc3_3, A_conc3_4\n",
    "print(A_conc3.shape)"
   ]
  },
  {
   "cell_type": "code",
   "execution_count": null,
   "metadata": {},
   "outputs": [],
   "source": [
    "del agg3_2\n",
    "# del agg3_3\n",
    "# del agg3_4\n",
    "del A_conc3_2\n",
    "# del A_conc3_3\n",
    "# del A_conc3_4"
   ]
  },
  {
   "cell_type": "code",
   "execution_count": null,
   "metadata": {},
   "outputs": [],
   "source": [
    "import torch\n",
    "torch.cuda.empty_cache() "
   ]
  },
  {
   "cell_type": "code",
   "execution_count": null,
   "metadata": {},
   "outputs": [],
   "source": [
    "print(agg3.shape)"
   ]
  },
  {
   "cell_type": "code",
   "execution_count": null,
   "metadata": {},
   "outputs": [],
   "source": [
    "#A_conc1= np.concatenate(A_conc1, axis=1)"
   ]
  },
  {
   "cell_type": "code",
   "execution_count": null,
   "metadata": {},
   "outputs": [],
   "source": [
    "print(A_conc3.shape)"
   ]
  },
  {
   "cell_type": "code",
   "execution_count": null,
   "metadata": {},
   "outputs": [],
   "source": [
    "print( np. __version__)"
   ]
  },
  {
   "cell_type": "code",
   "execution_count": null,
   "metadata": {},
   "outputs": [],
   "source": [
    "import torch\n",
    "if torch.cuda.is_available():\n",
    "  dev = \"cuda:3\"\n",
    "else:\n",
    "  dev = \"cpu\"\n",
    "device = torch.device(dev)"
   ]
  },
  {
   "cell_type": "code",
   "execution_count": null,
   "metadata": {},
   "outputs": [],
   "source": [
    "from numba import cuda\n",
    "from numba import jit\n",
    "print(cuda.gpus)\n",
    "numba.cuda.select_device( 3 )"
   ]
  },
  {
   "cell_type": "code",
   "execution_count": null,
   "metadata": {},
   "outputs": [],
   "source": [
    "from numba import cuda\n",
    "cuda.detect()\n",
    "from numba import jit\n",
    "#@cuda.jit\n",
    "@jit #(target='cuda:1')\n",
    "def matrix_comp(A,A_conc,d,iter_no):\n",
    "    #for t in range(int(d/6)):\n",
    "    for t in range(A_conc.shape[0]):\n",
    "#     if (t%500000)==0:\n",
    "#         print(t)\n",
    "    #for j in range(user_no):\n",
    "        A[t]=np.split(A_conc[t],iter_no)\n",
    "        #A[t]=np.ma.row_stack (A[t])\n",
    "    return A"
   ]
  },
  {
   "cell_type": "code",
   "execution_count": null,
   "metadata": {
    "scrolled": true
   },
   "outputs": [],
   "source": [
    "import time\n",
    "d=11173962\n",
    "iter_no=1000\n",
    "user_no=5\n",
    "A3=np.empty((int(d/6),iter_no,user_no))\n",
    "start=time.time()\n",
    "A3=matrix_comp(A3,A_conc3,d,iter_no)\n",
    "end=time.time()\n",
    "print(end-start)"
   ]
  },
  {
   "cell_type": "code",
   "execution_count": null,
   "metadata": {},
   "outputs": [],
   "source": [
    "import torch\n",
    "del A_conc3\n",
    "torch.cuda.empty_cache()  "
   ]
  },
  {
   "cell_type": "code",
   "execution_count": null,
   "metadata": {},
   "outputs": [],
   "source": [
    "from scipy import linalg\n",
    "import time\n",
    "\n",
    "#print(A)\n",
    "#A=np.array(A)\n",
    "#p,*_ = linalg.lstsq(A[:,:,0], e)\n",
    "d=11173962\n",
    "\n",
    "user_gradient=[]\n",
    "check_gradient=[]\n",
    "ind1=int(d/6)\n",
    "num_users=user_no\n",
    "start=time.time()   \n",
    "for user in range(num_users):\n",
    "#for user in user_no:\n",
    "    user_gradient.append([])\n",
    "    #check_gradient.append(original_gradient[user])\n",
    "for t in range(ind1):\n",
    "    #A_big[t]=np.array(A_big[t])\n",
    "    #e[t]=np.array(e[t])\n",
    "        #p,*_ = linalg.lstsq(A1[t], agg1[t])\n",
    "    p, *_  = linalg.lstsq(A3[t], agg3[t][0:iter_no])\n",
    "    #print(p)\n",
    "    for user in range(num_users):\n",
    "        user_gradient[user].append(p[user])\n",
    "    \n",
    "#check_gradient[user]=original_gradient[user]\n",
    "end=time.time()\n",
    "# ind1=int(d/3)\n",
    "# estimated_grad=least_square(A1,agg1,ind1)\n",
    "# end=time.time()\n",
    "\n",
    "print(end-start)"
   ]
  },
  {
   "cell_type": "code",
   "execution_count": null,
   "metadata": {},
   "outputs": [],
   "source": [
    "print(p)\n",
    "print(len(user_gradient[0]))"
   ]
  },
  {
   "cell_type": "code",
   "execution_count": null,
   "metadata": {},
   "outputs": [],
   "source": [
    "o=np.load(\"original_grad.npy\")"
   ]
  },
  {
   "cell_type": "code",
   "execution_count": null,
   "metadata": {},
   "outputs": [],
   "source": [
    "d=11173962\n",
    "o=np.load(\"original_grad.npy\")\n",
    "#user_gradient=np.load(\"gradient33_0.1_randK.npy\")\n",
    "print(o[3][int(2*d/6):int(2*d/6+20)])\n",
    "#print(user_gradient[2][int(d/6)-20:int(d/6)])\n",
    "print(user_gradient[3][0:20])\n",
    "print(np.linalg.norm(o[3][int(2*d/6):int(3*d/6)][:,0]-user_gradient[3]))"
   ]
  },
  {
   "cell_type": "code",
   "execution_count": null,
   "metadata": {},
   "outputs": [],
   "source": [
    "np.save(\"gradient33.npy\",user_gradient)\n",
    "print(\"finish\")"
   ]
  },
  {
   "cell_type": "code",
   "execution_count": null,
   "metadata": {},
   "outputs": [],
   "source": [
    "d=11173962\n",
    "u=np.load(\"gradient33_topK_1000.npy\")\n",
    "print(np.linalg.norm(o[3][int(2*d/6):int(3*d/6)][:,0]-u[3]))"
   ]
  },
  {
   "cell_type": "code",
   "execution_count": null,
   "metadata": {},
   "outputs": [],
   "source": []
  }
 ],
 "metadata": {
  "kernelspec": {
   "display_name": "Python 3",
   "language": "python",
   "name": "python3"
  },
  "language_info": {
   "codemirror_mode": {
    "name": "ipython",
    "version": 3
   },
   "file_extension": ".py",
   "mimetype": "text/x-python",
   "name": "python",
   "nbconvert_exporter": "python",
   "pygments_lexer": "ipython3",
   "version": "3.8.10"
  }
 },
 "nbformat": 4,
 "nbformat_minor": 4
}
